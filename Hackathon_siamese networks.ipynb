{
 "cells": [
  {
   "cell_type": "code",
   "execution_count": 123,
   "metadata": {
    "colab": {
     "base_uri": "https://localhost:8080/",
     "height": 35
    },
    "colab_type": "code",
    "id": "aPl-yjcf6s_l",
    "outputId": "a690b49a-44ec-43d1-bfb0-71595ca3498b"
   },
   "outputs": [],
   "source": [
    "# get the work directory\n",
    "import os\n",
    "os.getcwd()\n",
    "#os.chdir('/content/sample_data')  #change the work directory"
   ]
  },
  {
   "cell_type": "code",
   "execution_count": 2,
   "metadata": {
    "colab": {},
    "colab_type": "code",
    "id": "2sbhjCSE6s_1"
   },
   "outputs": [],
   "source": [
    "with open(\"C:\\\\Users\\\\User\\\\Desktop\\\\Hackathon\\\\camp_dataset\\\\sim_question_train.txt\", encoding = \"utf-8\") as f:\n",
    "    dat_train = f.readlines()"
   ]
  },
  {
   "cell_type": "code",
   "execution_count": 3,
   "metadata": {
    "colab": {},
    "colab_type": "code",
    "id": "ngpY2BcH6s__"
   },
   "outputs": [],
   "source": [
    "with open(\"C:\\\\Users\\\\User\\\\Desktop\\\\Hackathon\\\\camp_dataset\\\\sim_question_test.txt\", encoding = \"utf-8\") as f:\n",
    "    dat_test = f.readlines()"
   ]
  },
  {
   "cell_type": "code",
   "execution_count": 4,
   "metadata": {
    "colab": {},
    "colab_type": "code",
    "id": "_V0SzbUD6tAW"
   },
   "outputs": [],
   "source": [
    "# import module\n",
    "import numpy as np\n",
    "import pandas as pd\n",
    "import jieba\n",
    "import gensim\n",
    "from gensim.models import KeyedVectors\n",
    "from sklearn.model_selection import train_test_split\n",
    "import matplotlib.pyplot as plt\n",
    "import seaborn as sns\n",
    "from gensim import models"
   ]
  },
  {
   "cell_type": "code",
   "execution_count": 5,
   "metadata": {
    "colab": {
     "base_uri": "https://localhost:8080/",
     "height": 81
    },
    "colab_type": "code",
    "id": "ZV9mLEiS6tAh",
    "outputId": "809448eb-a3af-4415-db74-c788e274210c"
   },
   "outputs": [
    {
     "name": "stderr",
     "output_type": "stream",
     "text": [
      "Using TensorFlow backend.\n"
     ]
    }
   ],
   "source": [
    "from time import time\n",
    "import itertools\n",
    "import datetime\n",
    "\n",
    "import tensorflow as tf\n",
    "from keras.preprocessing.sequence import pad_sequences\n",
    "from keras.models import Model\n",
    "from keras.layers import Input, Embedding, LSTM, Lambda\n",
    "import keras.backend as K\n",
    "from keras.optimizers import Adadelta\n",
    "from keras.callbacks import ModelCheckpoint"
   ]
  },
  {
   "cell_type": "code",
   "execution_count": 6,
   "metadata": {
    "colab": {},
    "colab_type": "code",
    "id": "0d1dFspa6tAq"
   },
   "outputs": [],
   "source": [
    "## define the function that split the data\n",
    "def split_train_data (text):\n",
    "    text_pd = pd.DataFrame(text)\n",
    "    text_pd.columns = [\"question\"]\n",
    "    question = text_pd[\"question\"].str.split(\"@@@@@\", expand = True)\n",
    "    text_pd[\"q1\"] = question[0]\n",
    "    text_pd[\"q2\"] = question[1]\n",
    "    text_pd[\"pair\"] = question[2]\n",
    "    text_pd.drop(\"question\", axis = 1, inplace =True)\n",
    "    return text_pd\n",
    "\n",
    "def split_test_data (text):\n",
    "    text_pd = pd.DataFrame(text)\n",
    "    text_pd.columns = [\"question\"]\n",
    "    question = text_pd[\"question\"].str.split(\"@@@@@\", expand = True)\n",
    "    text_pd[\"q1\"] = question[0]\n",
    "    text_pd[\"q2\"] = question[1]\n",
    "    text_pd.drop(\"question\", axis = 1, inplace =True)\n",
    "    return text_pd"
   ]
  },
  {
   "cell_type": "code",
   "execution_count": 7,
   "metadata": {
    "colab": {},
    "colab_type": "code",
    "id": "vTKnB_d76tA1"
   },
   "outputs": [],
   "source": [
    "data_train = split_train_data(dat_train)\n",
    "data_test = split_test_data(dat_test)"
   ]
  },
  {
   "cell_type": "code",
   "execution_count": 8,
   "metadata": {
    "colab": {},
    "colab_type": "code",
    "id": "dM_1JcS66tA9"
   },
   "outputs": [],
   "source": [
    "# first remove the \\n in the train pair column\n",
    "data_train[\"pair\"] = data_train[\"pair\"].replace(r\"\\n\", \"\",regex = True)\n",
    "data_train[\"pair\"] = data_train[\"pair\"].str.strip()"
   ]
  },
  {
   "cell_type": "code",
   "execution_count": 9,
   "metadata": {
    "colab": {},
    "colab_type": "code",
    "id": "ehxhVhSb6tBG"
   },
   "outputs": [],
   "source": [
    "# define the function to clean data\n",
    "def clean_data (data):\n",
    "    # remove the meaningless signs\n",
    "    for column in data:\n",
    "        # remove $\n",
    "        data[column] = data[column].str.replace(\"$\", \"\")  \n",
    "        \n",
    "        #remove the numbers, the alphabets\n",
    "        #data[column] = data[column].str.replace(\"\\d+\", \"\").str.replace(r'[A-Za-z]+', '') \n",
    "        \n",
    "        # remove the calculation sign (like +, -, *, (, { )\n",
    "        data[column] = data[column].apply(lambda x: x.replace(\"+\", \"\").replace(\"-\", \"\").replace(\"=\", \"\").replace(\"*\", \"\"))\n",
    "        data[column] = data[column].apply(lambda x: x.replace(\"{\",\"\").replace(\"}\",\"\").replace(\"、\",\"\").replace(\"：\",\"\").replace(\"？\",\"\").replace(\"（\",\"\").replace(\"）\",\"\").replace(\"，\",\"\").replace(\".\",\"\"))\n",
    "        data[column] = data[column].apply(lambda x: x.replace(\"(\",\"\").replace(\")\",\"\").replace(\"?\",\"\").replace(\"。\",\"\").replace(\"|\",\"\").replace(\",\",\"\").replace(\"^\",\"\").replace(\"；\",\"\"))\n",
    "        \n",
    "        # remove the white space and \\xa0 within sentences\n",
    "        data[column] = data[column].str.replace(\" \", \"\").str.replace(u'\\xa0', \"\")\n",
    "        \n",
    "        # remove white spaces\n",
    "        data[column] = data[column].str.strip() \n",
    "        \n",
    "    return data"
   ]
  },
  {
   "cell_type": "code",
   "execution_count": 10,
   "metadata": {
    "colab": {},
    "colab_type": "code",
    "id": "Qbf-lAa46tBT"
   },
   "outputs": [],
   "source": [
    "# clean dataset\n",
    "data_train = clean_data(data_train)\n",
    "data_test = clean_data(data_test)\n",
    "#data_train.head(500)"
   ]
  },
  {
   "cell_type": "code",
   "execution_count": 11,
   "metadata": {
    "colab": {},
    "colab_type": "code",
    "id": "SNK-KAE06tBX"
   },
   "outputs": [],
   "source": [
    "## define tokenize function\n",
    "def tokenize_question (data, column):\n",
    "    q_words = []\n",
    "    for i in data[column]:\n",
    "        segs = jieba.cut(i)\n",
    "        result = \" \".join(segs).split(\" \")\n",
    "        q_words.append(result)\n",
    "    return q_words"
   ]
  },
  {
   "cell_type": "code",
   "execution_count": 12,
   "metadata": {
    "colab": {
     "base_uri": "https://localhost:8080/",
     "height": 88
    },
    "colab_type": "code",
    "id": "mPuLn4w46tBk",
    "outputId": "3bc927b8-a9a2-454a-bf8f-0ce98ae33567"
   },
   "outputs": [
    {
     "name": "stderr",
     "output_type": "stream",
     "text": [
      "Building prefix dict from the default dictionary ...\n",
      "Loading model from cache C:\\Users\\User\\AppData\\Local\\Temp\\jieba.cache\n",
      "Loading model cost 1.246 seconds.\n",
      "Prefix dict has been built successfully.\n"
     ]
    }
   ],
   "source": [
    "# tokenize the train and test data\n",
    "q1_words = tokenize_question(data_train, \"q1\")\n",
    "q2_words = tokenize_question(data_train,\"q2\")\n",
    "q1_test_words = tokenize_question(data_test, \"q1\")\n",
    "q2_test_words = tokenize_question(data_test, \"q2\")"
   ]
  },
  {
   "cell_type": "code",
   "execution_count": 13,
   "metadata": {
    "colab": {},
    "colab_type": "code",
    "id": "CnC9r1rd6tBv"
   },
   "outputs": [],
   "source": [
    "words_combine = []\n",
    "vic = dict()\n",
    "for i in q1_words:\n",
    "    words_combine.append(i)\n",
    "for i in q2_words:\n",
    "    words_combine.append(i)\n",
    "for i in q1_test_words:\n",
    "    words_combine.append(i)\n",
    "for i in q2_test_words:\n",
    "    words_combine.append(i)"
   ]
  },
  {
   "cell_type": "code",
   "execution_count": 14,
   "metadata": {
    "colab": {
     "base_uri": "https://localhost:8080/",
     "height": 35
    },
    "colab_type": "code",
    "id": "DTpPbvCL6tB5",
    "outputId": "5eac2c96-2942-4959-8b42-3357118cbd19"
   },
   "outputs": [
    {
     "data": {
      "text/plain": [
       "40572"
      ]
     },
     "execution_count": 14,
     "metadata": {},
     "output_type": "execute_result"
    }
   ],
   "source": [
    "len(words_combine)"
   ]
  },
  {
   "cell_type": "code",
   "execution_count": 15,
   "metadata": {
    "colab": {},
    "colab_type": "code",
    "id": "MZIVwqBM6tCF"
   },
   "outputs": [],
   "source": [
    "## use model to train word embedding\n",
    "#model1 = gensim.models.Word2Vec(words_combine, size=100, window=5, min_count=1)    ## accuracy = 0.690\n",
    "#model2 = gensim.models.Word2Vec(words_combine, size=200, window=5, min_count=1)     ## accuracy = 0.688\n",
    "#model3 = gensim.models.Word2Vec(words_combine, size=150, window=5, min_count=1)      ## accuracy = 0.6878\n",
    "#model4 = gensim.models.Word2Vec(words_combine, size=100, window=8, min_count=1)    ## accuracy = 0.708\n",
    "#model5 = gensim.models.Word2Vec(words_combine, size=100, window=10, min_count=1)    ## accuracy = 0.711\n",
    "#model6 = gensim.models.Word2Vec(words_combine, size=100, window=12, min_count=1)    ## accuracy = 0.716\n",
    "model7 = gensim.models.Word2Vec(words_combine, size=300, window=8, min_count=1)    ## accuracy = 0.7066"
   ]
  },
  {
   "cell_type": "code",
   "execution_count": 16,
   "metadata": {
    "colab": {},
    "colab_type": "code",
    "id": "NFi1wx716tDT"
   },
   "outputs": [],
   "source": [
    "## define tokenize function\n",
    "def tokenize_question_sec (data):\n",
    "    segs = jieba.cut(data)\n",
    "    result = \" \".join(segs).split(\" \")\n",
    "    return result"
   ]
  },
  {
   "cell_type": "code",
   "execution_count": 17,
   "metadata": {
    "colab": {},
    "colab_type": "code",
    "id": "Syo-3CGB6tDb"
   },
   "outputs": [],
   "source": [
    "from gensim.test.utils import datapath\n",
    "# prepare embedding\n",
    "vocabulary = dict()\n",
    "inverse_vocabulary = ['<unk>']  # '<unk>' will never be used, it is only a placeholder for the [0, 0, ....0] embedding\n",
    "#word2vec = KeyedVectors.load_word2vec_format(datapath(\"euclidean_vectors.bin\"), binary=True)\n",
    "questions_cols = ['q1', 'q2']"
   ]
  },
  {
   "cell_type": "code",
   "execution_count": 18,
   "metadata": {
    "colab": {},
    "colab_type": "code",
    "id": "yNuYP0Px6tDe"
   },
   "outputs": [],
   "source": [
    "# Iterate over the questions only of both training and test datasets\n",
    "for dataset in [data_train, data_test]:\n",
    "    for index, row in dataset.iterrows():\n",
    "        # Iterate through the text of both questions of the row\n",
    "        for question in questions_cols:\n",
    "\n",
    "            q2n = []  # q2n -> question numbers representation\n",
    "            for word in tokenize_question_sec(row[question]):\n",
    "\n",
    "                # Check for unwanted words\n",
    "                #if word in stops and word not in word2vec.vocab:\n",
    "                #    continue\n",
    "\n",
    "                if word not in vocabulary:\n",
    "                    vocabulary[word] = len(inverse_vocabulary)\n",
    "                    q2n.append(len(inverse_vocabulary))\n",
    "                    inverse_vocabulary.append(word)\n",
    "                else:\n",
    "                    q2n.append(vocabulary[word])\n",
    "\n",
    "            # Replace questions as word to question as number representation\n",
    "            dataset.loc[index, question] = q2n"
   ]
  },
  {
   "cell_type": "code",
   "execution_count": 19,
   "metadata": {
    "colab": {
     "base_uri": "https://localhost:8080/",
     "height": 72
    },
    "colab_type": "code",
    "id": "NKY_qD2S6tDj",
    "outputId": "c9d6518a-dc65-4b79-b1ab-d304450551f9"
   },
   "outputs": [
    {
     "name": "stderr",
     "output_type": "stream",
     "text": [
      "D:\\Anaconda\\lib\\site-packages\\ipykernel_launcher.py:7: DeprecationWarning: Call to deprecated `__getitem__` (Method will be removed in 4.0.0, use self.wv.__getitem__() instead).\n",
      "  import sys\n"
     ]
    }
   ],
   "source": [
    "embedding_dim = 300\n",
    "embeddings = 1 * np.random.randn(len(vocabulary) + 1, embedding_dim)  # This will be the embedding matrix\n",
    "embeddings[0] = 0  # So that the padding will be ignored\n",
    "\n",
    "# Build the embedding matrix\n",
    "for word, index in vocabulary.items():\n",
    "        embeddings[index] = model7[word]"
   ]
  },
  {
   "cell_type": "code",
   "execution_count": 20,
   "metadata": {
    "colab": {},
    "colab_type": "code",
    "id": "hcCtLpVk6tEX"
   },
   "outputs": [],
   "source": [
    "from itertools import product\n",
    "# prepare training and validation data\n",
    "max_seq_length = max(data_train.q1.map(lambda x: len(x)).max(),\n",
    "                     data_train.q2.map(lambda x: len(x)).max(),\n",
    "                     data_test.q1.map(lambda x: len(x)).max(),\n",
    "                     data_test.q2.map(lambda x: len(x)).max())\n",
    "\n",
    "# Split to train validation\n",
    "validation_size = 4000\n",
    "training_size = len(data_train) - validation_size\n",
    "\n",
    "X = data_train[questions_cols]\n",
    "Y = data_train['pair']\n",
    "\n",
    "X_train, X_validation, Y_train, Y_validation = train_test_split(X, Y, test_size=validation_size)\n",
    "\n",
    "# Split to dicts\n",
    "X_train = {'left': X_train.q1, 'right': X_train.q2}\n",
    "X_validation = {'left': X_validation.q1, 'right': X_validation.q2}\n",
    "X_test = {'left': data_test.q1, 'right': data_test.q2}\n",
    "\n",
    "# Convert labels to their numpy representations\n",
    "Y_train = Y_train.values\n",
    "Y_validation = Y_validation.values\n",
    "\n",
    "# Zero padding\n",
    "for dataset, side in product([X_train, X_validation], ['left', 'right']):\n",
    "    dataset[side] = pad_sequences(dataset[side], maxlen=max_seq_length)\n",
    "\n",
    "# Make sure everything is ok\n",
    "assert X_train['left'].shape == X_train['right'].shape\n",
    "assert len(X_train['left']) == len(Y_train)"
   ]
  },
  {
   "cell_type": "code",
   "execution_count": 23,
   "metadata": {
    "colab": {
     "base_uri": "https://localhost:8080/",
     "height": 123
    },
    "colab_type": "code",
    "id": "ysL1KL-A6tEi",
    "outputId": "3b2bc963-fe58-47fe-96af-3373bbb5c99d"
   },
   "outputs": [
    {
     "name": "stderr",
     "output_type": "stream",
     "text": [
      "D:\\Anaconda\\lib\\site-packages\\ipykernel_launcher.py:43: UserWarning: The `nb_epoch` argument in `fit` has been renamed `epochs`.\n"
     ]
    },
    {
     "name": "stdout",
     "output_type": "stream",
     "text": [
      "Train on 14018 samples, validate on 4000 samples\n",
      "Epoch 1/20\n",
      "14018/14018 [==============================] - 297s 21ms/step - loss: 0.2875 - accuracy: 0.5794 - val_loss: 0.2485 - val_accuracy: 0.5810\n",
      "Epoch 2/20\n",
      "14018/14018 [==============================] - 303s 22ms/step - loss: 0.2083 - accuracy: 0.6679 - val_loss: 0.2045 - val_accuracy: 0.6718\n",
      "Epoch 3/20\n",
      "14018/14018 [==============================] - 314s 22ms/step - loss: 0.1907 - accuracy: 0.7131 - val_loss: 0.1944 - val_accuracy: 0.6960\n",
      "Epoch 4/20\n",
      "14018/14018 [==============================] - 308s 22ms/step - loss: 0.1838 - accuracy: 0.7278 - val_loss: 0.1880 - val_accuracy: 0.7197\n",
      "Epoch 5/20\n",
      "14018/14018 [==============================] - 322s 23ms/step - loss: 0.1790 - accuracy: 0.7440 - val_loss: 0.1856 - val_accuracy: 0.7207\n",
      "Epoch 6/20\n",
      "14018/14018 [==============================] - 319s 23ms/step - loss: 0.1754 - accuracy: 0.7468 - val_loss: 0.1806 - val_accuracy: 0.7368\n",
      "Epoch 7/20\n",
      "14018/14018 [==============================] - 326s 23ms/step - loss: 0.1733 - accuracy: 0.7522 - val_loss: 0.1785 - val_accuracy: 0.7358\n",
      "Epoch 8/20\n",
      "14018/14018 [==============================] - 322s 23ms/step - loss: 0.1716 - accuracy: 0.7541 - val_loss: 0.1781 - val_accuracy: 0.7385\n",
      "Epoch 9/20\n",
      "14018/14018 [==============================] - 321s 23ms/step - loss: 0.1704 - accuracy: 0.7562 - val_loss: 0.1765 - val_accuracy: 0.7420\n",
      "Epoch 10/20\n",
      "14018/14018 [==============================] - 327s 23ms/step - loss: 0.1682 - accuracy: 0.7618 - val_loss: 0.1760 - val_accuracy: 0.7427\n",
      "Epoch 11/20\n",
      "14018/14018 [==============================] - 320s 23ms/step - loss: 0.1669 - accuracy: 0.7635 - val_loss: 0.1756 - val_accuracy: 0.7433\n",
      "Epoch 12/20\n",
      "14018/14018 [==============================] - 326s 23ms/step - loss: 0.1654 - accuracy: 0.7687 - val_loss: 0.1720 - val_accuracy: 0.7548\n",
      "Epoch 13/20\n",
      "14018/14018 [==============================] - 341s 24ms/step - loss: 0.1644 - accuracy: 0.7682 - val_loss: 0.1779 - val_accuracy: 0.7445\n",
      "Epoch 14/20\n",
      "14018/14018 [==============================] - 307s 22ms/step - loss: 0.1636 - accuracy: 0.7712 - val_loss: 0.1716 - val_accuracy: 0.7525\n",
      "Epoch 15/20\n",
      "14018/14018 [==============================] - 346s 25ms/step - loss: 0.1624 - accuracy: 0.7722 - val_loss: 0.1728 - val_accuracy: 0.7492\n",
      "Epoch 16/20\n",
      "14018/14018 [==============================] - 338s 24ms/step - loss: 0.1614 - accuracy: 0.7744 - val_loss: 0.1714 - val_accuracy: 0.7550\n",
      "Epoch 17/20\n",
      "14018/14018 [==============================] - 377s 27ms/step - loss: 0.1607 - accuracy: 0.7771 - val_loss: 0.1733 - val_accuracy: 0.7477\n",
      "Epoch 18/20\n",
      "14018/14018 [==============================] - 390s 28ms/step - loss: 0.1602 - accuracy: 0.7764 - val_loss: 0.1705 - val_accuracy: 0.7515\n",
      "Epoch 19/20\n",
      "14018/14018 [==============================] - 390s 28ms/step - loss: 0.1591 - accuracy: 0.7813 - val_loss: 0.1723 - val_accuracy: 0.7523\n",
      "Epoch 20/20\n",
      "14018/14018 [==============================] - 370s 26ms/step - loss: 0.1589 - accuracy: 0.7812 - val_loss: 0.1763 - val_accuracy: 0.7460\n",
      "Training time finished.\n",
      "20 epochs in 1:51:05.198278\n"
     ]
    }
   ],
   "source": [
    "# build the model\n",
    "# Model variables\n",
    "n_hidden = 30  ## the number of hidden layers \n",
    "gradient_clipping_norm = 1.25   \n",
    "batch_size = 64  ## the number of training examples each batch\n",
    "n_epoch = 20\n",
    "\n",
    "def exponent_neg_manhattan_distance(left, right):\n",
    "    ''' Helper function for the similarity estimate of the LSTMs outputs'''\n",
    "    return K.exp(-K.sum(K.abs(left-right), axis=1, keepdims=True))\n",
    "\n",
    "# The visible layer\n",
    "left_input = Input(shape=(max_seq_length,), dtype='int32')\n",
    "right_input = Input(shape=(max_seq_length,), dtype='int32')\n",
    "\n",
    "embedding_layer = Embedding(len(embeddings), embedding_dim, weights=[embeddings], input_length=max_seq_length, trainable=False)\n",
    "\n",
    "# Embedded version of the inputs\n",
    "encoded_left = embedding_layer(left_input)\n",
    "encoded_right = embedding_layer(right_input)\n",
    "\n",
    "# Since this is a siamese network, both sides share the same LSTM\n",
    "shared_lstm = LSTM(n_hidden)\n",
    "\n",
    "left_output = shared_lstm(encoded_left)\n",
    "right_output = shared_lstm(encoded_right)\n",
    "\n",
    "# Calculates the distance as defined by the MaLSTM model\n",
    "malstm_distance = Lambda(function=lambda x: exponent_neg_manhattan_distance(x[0], x[1]),output_shape=lambda x: (x[0][0], 1))([left_output, right_output])\n",
    "\n",
    "# Pack it all up into a model\n",
    "malstm = Model([left_input, right_input], [malstm_distance])\n",
    "\n",
    "# Adadelta optimizer, with gradient clipping by norm\n",
    "optimizer = Adadelta(clipnorm=gradient_clipping_norm)\n",
    "\n",
    "malstm.compile(loss='mean_squared_error', optimizer=optimizer, metrics=['accuracy'])\n",
    "\n",
    "# Start training\n",
    "training_start_time = time()\n",
    "\n",
    "malstm_trained = malstm.fit([X_train['left'], X_train['right']], Y_train, batch_size=batch_size, nb_epoch=n_epoch,\n",
    "                            validation_data=([X_validation['left'], X_validation['right']], Y_validation))\n",
    "\n",
    "print(\"Training time finished.\\n{} epochs in {}\".format(n_epoch, datetime.timedelta(seconds=time()-training_start_time)))"
   ]
  },
  {
   "cell_type": "code",
   "execution_count": 28,
   "metadata": {
    "colab": {},
    "colab_type": "code",
    "id": "QvN7uGNO6tEu"
   },
   "outputs": [
    {
     "data": {
      "image/png": "[encoded data removed]",
      "text/plain": [
       "<Figure size 432x288 with 1 Axes>"
      ]
     },
     "metadata": {
      "needs_background": "light"
     },
     "output_type": "display_data"
    },
    {
     "data": {
      "image/png": "[encoded data removed]",
      "text/plain": [
       "<Figure size 432x288 with 1 Axes>"
      ]
     },
     "metadata": {
      "needs_background": "light"
     },
     "output_type": "display_data"
    }
   ],
   "source": [
    "# Plot accuracy\n",
    "plt.plot(malstm_trained.history['accuracy'])\n",
    "plt.plot(malstm_trained.history['val_accuracy'])\n",
    "plt.title('Model Accuracy')\n",
    "plt.ylabel('Accuracy')\n",
    "plt.xlabel('Epoch')\n",
    "plt.legend(['Train', 'Validation'], loc='upper left')\n",
    "plt.show()\n",
    "\n",
    "# Plot loss\n",
    "plt.plot(malstm_trained.history['loss'])\n",
    "plt.plot(malstm_trained.history['val_loss'])\n",
    "plt.title('Model Loss')\n",
    "plt.ylabel('Loss')\n",
    "plt.xlabel('Epoch')\n",
    "plt.legend(['Train', 'Validation'], loc='upper right')\n",
    "plt.show()"
   ]
  }
 ],
 "metadata": {
  "accelerator": "GPU",
  "colab": {
   "collapsed_sections": [],
   "name": "Hackathon-structured processing.ipynb",
   "provenance": []
  },
  "kernelspec": {
   "display_name": "Python 3",
   "language": "python",
   "name": "python3"
  },
  "language_info": {
   "codemirror_mode": {
    "name": "ipython",
    "version": 3
   },
   "file_extension": ".py",
   "mimetype": "text/x-python",
   "name": "python",
   "nbconvert_exporter": "python",
   "pygments_lexer": "ipython3",
   "version": "3.7.6"
  }
 },
 "nbformat": 4,
 "nbformat_minor": 1
}
